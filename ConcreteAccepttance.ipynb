{
  "nbformat": 4,
  "nbformat_minor": 0,
  "metadata": {
    "colab": {
      "provenance": [],
      "authorship_tag": "ABX9TyOwDTQVCCBSA3xB+A5e5Lxr",
      "include_colab_link": true
    },
    "kernelspec": {
      "name": "python3",
      "display_name": "Python 3"
    },
    "language_info": {
      "name": "python"
    }
  },
  "cells": [
    {
      "cell_type": "markdown",
      "metadata": {
        "id": "view-in-github",
        "colab_type": "text"
      },
      "source": [
        "<a href=\"https://colab.research.google.com/github/prrmzz/concrete-accepttance.ipynb/blob/main/ConcreteAccepttance.ipynb\" target=\"_parent\"><img src=\"https://colab.research.google.com/assets/colab-badge.svg\" alt=\"Open In Colab\"/></a>"
      ]
    },
    {
      "cell_type": "code",
      "execution_count": 2,
      "metadata": {
        "colab": {
          "base_uri": "https://localhost:8080/"
        },
        "id": "IcE1y5bk9Ug9",
        "outputId": "b0d1411e-9303-4889-b7a0-a50e9da165b1"
      },
      "outputs": [
        {
          "output_type": "stream",
          "name": "stdout",
          "text": [
            "The concrete is unacceptable (x_min < 0.9 * f_c)\n"
          ]
        }
      ],
      "source": [
        "def check_concrete_acceptance(x_min, x_mean, f_c):\n",
        "    \"\"\"\n",
        "    Check concrete acceptance based on compressive strength\n",
        "    :param x_min: Minimum compressive strength of the samples\n",
        "    :param x_mean: Average compressive strength of the samples\n",
        "    :param f_c: Specified compressive strength of the concrete\n",
        "    :return: Result of acceptance or rejection of the concrete\n",
        "    \"\"\"\n",
        "    if x_min < 0.9 * f_c:\n",
        "        return \"The concrete is unacceptable (x_min < 0.9 * f_c)\"\n",
        "    elif x_min >= 0.9 * f_c and x_mean >= f_c:\n",
        "        return \"The concrete is acceptable (x_min >= 0.9 * f_c and x_mean >= f_c)\"\n",
        "    elif x_min >= 0.9 * f_c and x_mean < f_c:\n",
        "        return \"The concrete is structurally acceptable (x_min >= 0.9 * f_c and x_mean < f_c)\"\n",
        "    else:\n",
        "        return \"Unknown status\"\n",
        "\n",
        "# Example usage:\n",
        "x_min = 25  # Minimum compressive strength\n",
        "x_mean = 30  # Average compressive strength\n",
        "f_c = 28  # Specified compressive strength\n",
        "\n",
        "result = check_concrete_acceptance(x_min, x_mean, f_c)\n",
        "print(result)"
      ]
    }
  ]
}